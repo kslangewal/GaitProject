{
 "cells": [
  {
   "cell_type": "markdown",
   "metadata": {},
   "source": [
    "Good example (previous): 1526, x_sep=0.4, y_sep=1, interval=[0, 128, 10], scatter_size=5"
   ]
  },
  {
   "cell_type": "code",
   "execution_count": null,
   "metadata": {},
   "outputs": [],
   "source": [
    "from scripts.common.utils import load_df_pickle, idx2task, task2idx, idx2pheno, pheno2idx\n",
    "from scripts.common.visualisation import MotionDrawer\n",
    "from scripts.common.keypoints_format import excluded_points\n",
    "import os\n",
    "import matplotlib.pyplot as plt\n",
    "import numpy as np\n",
    "import pandas as pd\n",
    "import umap"
   ]
  },
  {
   "cell_type": "code",
   "execution_count": null,
   "metadata": {},
   "outputs": [],
   "source": [
    "# Define input data paths\n",
    "df_path = \"thesis_results/data/model_outputs_for_TC_inspection.pickle\"\n",
    "df_phenos_path = \"thesis_results/data/model_phenos_outputs_for_TC_inspection.pickle\"\n",
    "df_kld_path = \"thesis_results/data/model_kld_outputs_for_TC_inspection.pickle\"\n",
    "\n",
    "# Load dataframes from the paths\n",
    "df = load_df_pickle(df_path)\n",
    "df_phenos = load_df_pickle(df_phenos_path)\n",
    "df_kld = load_df_pickle(df_kld_path)\n",
    "\n",
    "# Others\n",
    "df[\"std\"] =  list(-np.log(np.mean(np.std(np.stack(list(df[\"ori_motion\"])), axis=2), axis=1)))\n",
    "model_names = [\"B\", \"B+C\", \"B+C+T\", \"B+C+T+P\"]\n",
    "print(df.columns)\n",
    "print(df_phenos.columns)\n",
    "print(df_kld.columns)"
   ]
  },
  {
   "cell_type": "markdown",
   "metadata": {},
   "source": [
    "# Examples of linearly walking through the latent dimension with heigh KL-Divergence"
   ]
  },
  {
   "cell_type": "code",
   "execution_count": null,
   "metadata": {},
   "outputs": [],
   "source": [
    "from ipywidgets import Video, Layout, VBox, HBox, HTML, widgets, interactive, Label\n",
    "\n",
    "k=3 # Between [0,5] 0 being the dimension with heighest KL-divergence\n",
    "image_name = \"5TC_VAE\" # Choose \"5TC_VAE\" or \"VAE\"\n",
    "   \n",
    "video_data = dict()\n",
    "for d in range(0,4):\n",
    "    for n in range(0,8):\n",
    "        video_path = \"thesis_results/katja_test_movies/{}_{}_{}_{}.mp4\".format(image_name,k,d,n)\n",
    "        with open(video_path, \"rb\") as f:\n",
    "            b = f.read()\n",
    "            video_data[d*8+n] = b\n",
    "video_widgets = dict()\n",
    "video_boxes = dict()\n",
    "\n",
    "for d in range(0,4):\n",
    "    videolist = []\n",
    "    for n in range(0,8):\n",
    "        video_widgets[d*8+n] = Video(\n",
    "            value = video_data[d*8+n],\n",
    "            layout=Layout(height='120px', width='120px')\n",
    "        )\n",
    "        videolist.append(video_widgets[d*8+n])\n",
    "    video_boxes[d] = HBox(videolist)\n",
    "VBox([Label(value='Each row contains a seperate example. The Latent dimension of interest increases linearly throuhout the columns.'), video_boxes[0], video_boxes[1], video_boxes[2], video_boxes[3]])"
   ]
  },
  {
   "cell_type": "code",
   "execution_count": null,
   "metadata": {},
   "outputs": [],
   "source": [
    "# Uncomment to obtain images from model, convert these to movies with cv2. \n",
    "\"\"\"\n",
    "\n",
    "save_img_name = \"5TC_VAE\"\n",
    "\n",
    "# Loop over 5 latent dimensions with heighest KL-divergence. \n",
    "for k in range(0,5):\n",
    "    motion_cols = [\"recon_kld_{}\".format(k)]\n",
    "    name_cols = [\" \"]\n",
    "    # Loop over 4 data-sets (skeletons)\n",
    "    for d in range(0,4):\n",
    "        # Loop over 8 values for the latent dimension of interest, 8 values are linearly distributed between the 10th and 90th percentile of this latent dimension. \n",
    "        for n in range(0,8):\n",
    "            for i in range(0,128):\n",
    "                selected_interval = [i, i+1,1]\n",
    "                save_img_path = \"thesis_results/katja_test_figures/{}_fig_{}_{}_{}_{}\".format(save_img_name,k,d,n,i)\n",
    "    \n",
    "                # Start Drawing\n",
    "                drawer = MotionDrawer(df_kld, motion_cols, name_cols, save_img_path, x_sep=0.4, y_sep=1, interval=selected_interval,\n",
    "                               figsize=(2,1.5), scatter_size=5, dpi=60)\n",
    "            \n",
    "                ax = drawer.draw(d*8+n)\n",
    "\"\"\""
   ]
  },
  {
   "cell_type": "code",
   "execution_count": null,
   "metadata": {},
   "outputs": [],
   "source": []
  }
 ],
 "metadata": {
  "kernelspec": {
   "display_name": "Python 3",
   "language": "python",
   "name": "python3"
  },
  "language_info": {
   "codemirror_mode": {
    "name": "ipython",
    "version": 3
   },
   "file_extension": ".py",
   "mimetype": "text/x-python",
   "name": "python",
   "nbconvert_exporter": "python",
   "pygments_lexer": "ipython3",
   "version": "3.5.2"
  }
 },
 "nbformat": 4,
 "nbformat_minor": 2
}
